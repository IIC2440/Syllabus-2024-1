{
 "cells": [
  {
   "cell_type": "markdown",
   "id": "d7de8752-7a71-45dc-98c3-6b4c8694436d",
   "metadata": {},
   "source": [
    "### Usando Neo4j para base de datos de citas"
   ]
  },
  {
   "cell_type": "code",
   "execution_count": 1,
   "id": "e3d7b3c7-0441-406c-b0b5-7ff0b939d0cd",
   "metadata": {},
   "outputs": [],
   "source": [
    "import neo4j\n",
    "from neo4j import GraphDatabase\n",
    "import pandas as pd\n"
   ]
  },
  {
   "cell_type": "code",
   "execution_count": 17,
   "id": "359f98d6-3033-4c94-8630-ecbe9a8d7ac9",
   "metadata": {},
   "outputs": [
    {
     "name": "stdout",
     "output_type": "stream",
     "text": [
      "Connection to Neo4j established successfully!\n"
     ]
    }
   ],
   "source": [
    "### Conexión a la BD\n",
    "URI = \"bolt://localhost:7687\"\n",
    "AUTH = (\"neo4j\",\"12345678\")\n",
    "\n",
    "driver = GraphDatabase.driver(URI, auth=AUTH)\n",
    "with driver.session() as session:\n",
    "    try:\n",
    "        session.run(\"RETURN 1\")\n",
    "        print(\"Connection to Neo4j established successfully!\")\n",
    "    except Exception as e:\n",
    "        print(f\"Failed to connect to Neo4j: {e}\")\n",
    "\n"
   ]
  },
  {
   "cell_type": "markdown",
   "id": "5f14c0b2-d2c9-44d6-901f-74a850892bbe",
   "metadata": {},
   "source": [
    "### Datos desde CSV a pandas"
   ]
  },
  {
   "cell_type": "code",
   "execution_count": 2,
   "id": "43f0edf1-33f3-44a6-a8f5-fa50a515efe2",
   "metadata": {},
   "outputs": [
    {
     "data": {
      "text/html": [
       "<div>\n",
       "<style scoped>\n",
       "    .dataframe tbody tr th:only-of-type {\n",
       "        vertical-align: middle;\n",
       "    }\n",
       "\n",
       "    .dataframe tbody tr th {\n",
       "        vertical-align: top;\n",
       "    }\n",
       "\n",
       "    .dataframe thead th {\n",
       "        text-align: right;\n",
       "    }\n",
       "</style>\n",
       "<table border=\"1\" class=\"dataframe\">\n",
       "  <thead>\n",
       "    <tr style=\"text-align: right;\">\n",
       "      <th></th>\n",
       "      <th>target</th>\n",
       "      <th>source</th>\n",
       "    </tr>\n",
       "  </thead>\n",
       "  <tbody>\n",
       "    <tr>\n",
       "      <th>0</th>\n",
       "      <td>35</td>\n",
       "      <td>1033</td>\n",
       "    </tr>\n",
       "    <tr>\n",
       "      <th>1</th>\n",
       "      <td>35</td>\n",
       "      <td>103482</td>\n",
       "    </tr>\n",
       "    <tr>\n",
       "      <th>2</th>\n",
       "      <td>35</td>\n",
       "      <td>103515</td>\n",
       "    </tr>\n",
       "    <tr>\n",
       "      <th>3</th>\n",
       "      <td>35</td>\n",
       "      <td>1050679</td>\n",
       "    </tr>\n",
       "    <tr>\n",
       "      <th>4</th>\n",
       "      <td>35</td>\n",
       "      <td>1103960</td>\n",
       "    </tr>\n",
       "    <tr>\n",
       "      <th>...</th>\n",
       "      <td>...</td>\n",
       "      <td>...</td>\n",
       "    </tr>\n",
       "    <tr>\n",
       "      <th>5424</th>\n",
       "      <td>853116</td>\n",
       "      <td>19621</td>\n",
       "    </tr>\n",
       "    <tr>\n",
       "      <th>5425</th>\n",
       "      <td>853116</td>\n",
       "      <td>853155</td>\n",
       "    </tr>\n",
       "    <tr>\n",
       "      <th>5426</th>\n",
       "      <td>853118</td>\n",
       "      <td>1140289</td>\n",
       "    </tr>\n",
       "    <tr>\n",
       "      <th>5427</th>\n",
       "      <td>853155</td>\n",
       "      <td>853118</td>\n",
       "    </tr>\n",
       "    <tr>\n",
       "      <th>5428</th>\n",
       "      <td>954315</td>\n",
       "      <td>1155073</td>\n",
       "    </tr>\n",
       "  </tbody>\n",
       "</table>\n",
       "<p>5429 rows × 2 columns</p>\n",
       "</div>"
      ],
      "text/plain": [
       "      target   source\n",
       "0         35     1033\n",
       "1         35   103482\n",
       "2         35   103515\n",
       "3         35  1050679\n",
       "4         35  1103960\n",
       "...      ...      ...\n",
       "5424  853116    19621\n",
       "5425  853116   853155\n",
       "5426  853118  1140289\n",
       "5427  853155   853118\n",
       "5428  954315  1155073\n",
       "\n",
       "[5429 rows x 2 columns]"
      ]
     },
     "execution_count": 2,
     "metadata": {},
     "output_type": "execute_result"
    }
   ],
   "source": [
    "#### papers que citan a otro paper\n",
    "\n",
    "cites = pd.read_csv('cora/cora.cites',sep='\\t',header=None,names=['target','source'])\n",
    "cites"
   ]
  },
  {
   "cell_type": "code",
   "execution_count": 4,
   "id": "41d99936-83fb-4ee2-a6f4-9e86b03255cd",
   "metadata": {},
   "outputs": [
    {
     "data": {
      "text/plain": [
       "target\n",
       "35        166\n",
       "40          3\n",
       "114        42\n",
       "117        17\n",
       "128         4\n",
       "         ... \n",
       "853115      4\n",
       "853116      2\n",
       "853118      1\n",
       "853155      1\n",
       "954315      1\n",
       "Name: source, Length: 1565, dtype: int64"
      ]
     },
     "execution_count": 4,
     "metadata": {},
     "output_type": "execute_result"
    }
   ],
   "source": [
    "citas_por_paper = cites.groupby('target')['source'].nunique()\n",
    "citas_por_paper"
   ]
  },
  {
   "cell_type": "code",
   "execution_count": null,
   "id": "fc73fe48-2d7f-4f59-935a-eb573c88542d",
   "metadata": {},
   "outputs": [],
   "source": [
    "#### papers y los temas de los papers.  \n",
    "\n",
    "column_names = [\"paper_id\"] + [f\"word_{idx}\" for idx in range(1433)] + [\"subject\"]\n",
    "papers = pd.read_csv(\n",
    "    'cora/cora.content', sep=\"\\t\", names=column_names,\n",
    ")\n",
    "subjects = papers[[\"paper_id\",\"subject\"]]\n",
    "subjects"
   ]
  },
  {
   "cell_type": "markdown",
   "id": "3cc7b921-a52d-41fe-a401-22dcb21ef9c3",
   "metadata": {},
   "source": [
    "### Metiendo datos en Neo4j"
   ]
  },
  {
   "cell_type": "code",
   "execution_count": 66,
   "id": "cd04bf89-e831-4d0c-a600-690af920e3ad",
   "metadata": {},
   "outputs": [],
   "source": [
    "### estas consultas procesan los diccionarios de input y lo van metiendo a neo4j\n",
    "\n",
    "def load_papers(session, subjects):\n",
    "    query = \"\"\"\n",
    "    UNWIND $nodes AS row\n",
    "    MERGE (p:Paper {id: row.paper_id})\n",
    "    SET p.subject = row.subject;\n",
    "    \"\"\"\n",
    "    session.run(query, nodes=subjects)\n",
    "\n",
    "def load_relationships(session, cites):\n",
    "    query = \"\"\"\n",
    "    UNWIND $edges AS row\n",
    "    MATCH (p1:Paper {id: row.source})\n",
    "    MATCH (p2:Paper {id: row.target})\n",
    "    MERGE (p1)-[:CITES]->(p2);\n",
    "    \"\"\"\n",
    "    session.run(query, edges=cites)"
   ]
  },
  {
   "cell_type": "code",
   "execution_count": 67,
   "id": "e6be05cf-edb2-4826-8dd3-e843db3d3db5",
   "metadata": {},
   "outputs": [
    {
     "name": "stderr",
     "output_type": "stream",
     "text": [
      "/var/folders/gf/12lsjk9d5mn0gdyhlk_xd0zm0000gn/T/ipykernel_61465/4105384332.py:1: DeprecationWarning: Using a driver after it has been closed is deprecated. Future versions of the driver will raise an error.\n",
      "  with driver.session() as session:\n"
     ]
    },
    {
     "name": "stdout",
     "output_type": "stream",
     "text": [
      "<Record n=<Node element_id='4:394a99ac-1fbd-4afd-844d-38d3690cbb47:0' labels=frozenset({'nodes'}) properties={'subject': 'Neural_Networks', 'id': 31336}>>\n",
      "<Record n=<Node element_id='4:394a99ac-1fbd-4afd-844d-38d3690cbb47:1' labels=frozenset({'nodes'}) properties={'subject': 'Rule_Learning', 'id': 1061127}>>\n",
      "<Record n=<Node element_id='4:394a99ac-1fbd-4afd-844d-38d3690cbb47:2' labels=frozenset({'nodes'}) properties={'subject': 'Reinforcement_Learning', 'id': 1106406}>>\n",
      "<Record n=<Node element_id='4:394a99ac-1fbd-4afd-844d-38d3690cbb47:3' labels=frozenset({'nodes'}) properties={'subject': 'Reinforcement_Learning', 'id': 13195}>>\n",
      "<Record n=<Node element_id='4:394a99ac-1fbd-4afd-844d-38d3690cbb47:4' labels=frozenset({'nodes'}) properties={'subject': 'Probabilistic_Methods', 'id': 37879}>>\n"
     ]
    }
   ],
   "source": [
    "### agregamos datos y consultamos \n",
    "\n",
    "with driver.session() as session:\n",
    "    load_papers(session,subjects.to_dict('records'))\n",
    "    load_relationships(session,cites.to_dict('records'))\n",
    "    query = \"MATCH (n) RETURN n LIMIT 5\"\n",
    "    result = session.run(query)\n",
    "    for record in result:\n",
    "        print(record)\n"
   ]
  },
  {
   "cell_type": "markdown",
   "id": "2db524d4-8a3a-4698-a1c1-c4bfc3bb6773",
   "metadata": {},
   "source": [
    "### Algunas consultas"
   ]
  },
  {
   "cell_type": "code",
   "execution_count": 74,
   "id": "eda64839-e484-48e1-92a8-d177d314aa2d",
   "metadata": {},
   "outputs": [
    {
     "name": "stdout",
     "output_type": "stream",
     "text": [
      "<Record subject='Case_Based' paper=<Node element_id='4:394a99ac-1fbd-4afd-844d-38d3690cbb47:4062' labels=frozenset({'Paper'}) properties={'subject': 'Case_Based', 'id': 20193}> citations=22>\n",
      "<Record subject='Genetic_Algorithms' paper=<Node element_id='4:394a99ac-1fbd-4afd-844d-38d3690cbb47:2871' labels=frozenset({'Paper'}) properties={'subject': 'Genetic_Algorithms', 'id': 35}> citations=166>\n",
      "<Record subject='Neural_Networks' paper=<Node element_id='4:394a99ac-1fbd-4afd-844d-38d3690cbb47:3455' labels=frozenset({'Paper'}) properties={'subject': 'Neural_Networks', 'id': 1365}> citations=74>\n",
      "<Record subject='Probabilistic_Methods' paper=<Node element_id='4:394a99ac-1fbd-4afd-844d-38d3690cbb47:2782' labels=frozenset({'Paper'}) properties={'subject': 'Probabilistic_Methods', 'id': 4330}> citations=38>\n",
      "<Record subject='Reinforcement_Learning' paper=<Node element_id='4:394a99ac-1fbd-4afd-844d-38d3690cbb47:3273' labels=frozenset({'Paper'}) properties={'subject': 'Reinforcement_Learning', 'id': 6213}> citations=76>\n",
      "<Record subject='Rule_Learning' paper=<Node element_id='4:394a99ac-1fbd-4afd-844d-38d3690cbb47:3052' labels=frozenset({'Paper'}) properties={'subject': 'Rule_Learning', 'id': 2440}> citations=30>\n",
      "<Record subject='Theory' paper=<Node element_id='4:394a99ac-1fbd-4afd-844d-38d3690cbb47:3138' labels=frozenset({'Paper'}) properties={'subject': 'Theory', 'id': 3231}> citations=32>\n"
     ]
    },
    {
     "name": "stderr",
     "output_type": "stream",
     "text": [
      "/var/folders/gf/12lsjk9d5mn0gdyhlk_xd0zm0000gn/T/ipykernel_61465/2099888274.py:8: DeprecationWarning: Using a driver after it has been closed is deprecated. Future versions of the driver will raise an error.\n",
      "  with driver.session() as session:\n"
     ]
    }
   ],
   "source": [
    "query = \"\"\"\n",
    "MATCH (:Paper)-[:CITES]->(p:Paper)\n",
    "WITH p.subject AS subject, p, count(*) AS citations\n",
    "ORDER BY subject, citations DESC\n",
    "WITH subject, collect({paper: p, citations: citations})[0] AS max_paper\n",
    "RETURN subject, max_paper.paper AS paper, max_paper.citations AS citations\n",
    "\"\"\"\n",
    "with driver.session() as session:\n",
    "    result = session.run(query)\n",
    "    for record in result:\n",
    "        print(record)"
   ]
  },
  {
   "cell_type": "markdown",
   "id": "cd6d398e-594a-49a2-b74b-90da85fc00ed",
   "metadata": {},
   "source": [
    "### Consultas para escribir (usa gpt si necesitas ayuda!): \n",
    "- cuantos papers hay por subject?\n",
    "- encontrar triangulos: papers A,B,C tal que A cita a B, B cita a C, y A cita a C\n",
    "- encontrar cuadrados: papers A,B,C,D "
   ]
  },
  {
   "cell_type": "code",
   "execution_count": null,
   "id": "fa2ef721-9967-4917-a0dd-e1e78ad60122",
   "metadata": {},
   "outputs": [],
   "source": [
    "driver.close()"
   ]
  }
 ],
 "metadata": {
  "kernelspec": {
   "display_name": "Python 3 (ipykernel)",
   "language": "python",
   "name": "python3"
  },
  "language_info": {
   "codemirror_mode": {
    "name": "ipython",
    "version": 3
   },
   "file_extension": ".py",
   "mimetype": "text/x-python",
   "name": "python",
   "nbconvert_exporter": "python",
   "pygments_lexer": "ipython3",
   "version": "3.9.19"
  }
 },
 "nbformat": 4,
 "nbformat_minor": 5
}
