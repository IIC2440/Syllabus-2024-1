{
 "cells": [
  {
   "cell_type": "markdown",
   "id": "055ef489-8e1c-4fc4-85f9-536294f66b63",
   "metadata": {},
   "source": [
    "## Actividad Evaluada Base de datos de Vectores"
   ]
  },
  {
   "cell_type": "markdown",
   "id": "ec7b0b37-58df-474d-b3f2-055d718d518a",
   "metadata": {},
   "source": [
    "### Herramientas Qdrant"
   ]
  },
  {
   "cell_type": "code",
   "execution_count": 2,
   "id": "ac767f47-ee76-4eb6-b120-0210147c418c",
   "metadata": {},
   "outputs": [],
   "source": [
    "from qdrant_client.http.models import PointStruct\n",
    "from qdrant_client.http.models import Distance, VectorParams\n",
    "from qdrant_client import QdrantClient"
   ]
  },
  {
   "cell_type": "code",
   "execution_count": 3,
   "id": "ab84e431-26ea-4565-a4bd-cfab0c85140a",
   "metadata": {},
   "outputs": [],
   "source": [
    "### esto asume que Qdrant corre en el puerto default\n",
    "client = QdrantClient(\"localhost\", port=6333)"
   ]
  },
  {
   "cell_type": "code",
   "execution_count": 16,
   "id": "ffe8befb-a621-431b-a55a-617b39ce4be1",
   "metadata": {},
   "outputs": [
    {
     "name": "stderr",
     "output_type": "stream",
     "text": [
      "/var/folders/gf/12lsjk9d5mn0gdyhlk_xd0zm0000gn/T/ipykernel_87538/1482482415.py:4: DeprecationWarning: `recreate_collection` method is deprecated and will be removed in the future. Use `collection_exists` to check collection existence and `create_collection` instead.\n",
      "  client.recreate_collection(\n"
     ]
    },
    {
     "data": {
      "text/plain": [
       "True"
      ]
     },
     "execution_count": 16,
     "metadata": {},
     "output_type": "execute_result"
    }
   ],
   "source": [
    "#Creamos collection llamada word_vectors. Los vectores son de 25 dimensiones (es el archivo mas chico)\n",
    "#la distancia es la distancia de coseno\n",
    "\n",
    "client.recreate_collection(\n",
    "    collection_name=\"word_vectors\",\n",
    "    vectors_config=VectorParams(size=25, distance=Distance.COSINE),\n",
    ")"
   ]
  },
  {
   "cell_type": "code",
   "execution_count": 5,
   "id": "b6cd73a9-062b-4349-8fbe-b066bb8fac39",
   "metadata": {},
   "outputs": [],
   "source": [
    "#### cargamos el archivo en un diccionario bd. \n",
    "def parse_file(filename):\n",
    "    with open(filename, 'r', encoding='utf-8') as file:\n",
    "        bd = {}\n",
    "        for line in file:\n",
    "            tokens = line.strip().split()\n",
    "            word = tokens[0]\n",
    "            vector = [float(x) for x in tokens[1:]]\n",
    "            if len(vector) == 25:\n",
    "                bd[word] = vector\n",
    "        return bd"
   ]
  },
  {
   "cell_type": "code",
   "execution_count": 6,
   "id": "7ec8affd-0863-45ae-b981-a0a40a61426a",
   "metadata": {},
   "outputs": [],
   "source": [
    "filename = 'data/glove.twitter.27B.25d.txt'\n",
    "bd = parse_file(filename)"
   ]
  },
  {
   "cell_type": "code",
   "execution_count": 9,
   "id": "4da6b162-22be-4995-ad30-a1095be2de00",
   "metadata": {},
   "outputs": [
    {
     "name": "stdout",
     "output_type": "stream",
     "text": [
      "1193514\n",
      "[-0.20497, 0.37973, -0.011285, 0.16888, -0.16931, -0.62339, 0.48037, 2.7313, -1.8297, -0.98334, 0.10168, -2.0511, -1.251, -1.4226, 0.86511, -0.7521, 0.9305, 0.55328, -0.27986, 0.7781, 1.2427, -1.3048, 0.18202, 1.063, 0.20378]\n"
     ]
    }
   ],
   "source": [
    "print(len(bd))\n",
    "\n",
    "print(bd['hola'])"
   ]
  },
  {
   "cell_type": "code",
   "execution_count": 17,
   "id": "fd448c06-2f63-4b23-be2a-74f8f693fc3b",
   "metadata": {},
   "outputs": [],
   "source": [
    "#### para cargar las primeras 1000 palabras en qdrant, batches de a 100\n",
    "\n",
    "def load_bd_qdrant(bd,batch_size,max_lines=0):\n",
    "    points = []\n",
    "    total_lines = 1\n",
    "    for word,vector in bd.items():\n",
    "        points.append(PointStruct(id=total_lines, vector=vector, payload={\"text\": word}))\n",
    "        if total_lines % batch_size == 0:\n",
    "            client.upsert(collection_name=\"word_vectors\", wait=True, points=points)\n",
    "            points = []\n",
    "        total_lines += 1\n",
    "        if max_lines > 0 and total_lines >= max_lines:\n",
    "            break"
   ]
  },
  {
   "cell_type": "code",
   "execution_count": 18,
   "id": "e3301c43-6daf-4d6f-896a-f78a1db772d6",
   "metadata": {},
   "outputs": [],
   "source": [
    "load_bd_qdrant(bd,100,1000)"
   ]
  },
  {
   "cell_type": "code",
   "execution_count": 23,
   "id": "9f034774-380a-402e-bcdf-9e7a2bdf8387",
   "metadata": {},
   "outputs": [
    {
     "data": {
      "text/plain": [
       "[-0.30754499999999996,\n",
       " 0.44603499999999996,\n",
       " -0.10060999999999999,\n",
       " 0.09072,\n",
       " -0.3494665,\n",
       " 0.055949999999999986,\n",
       " 2.0259,\n",
       " 0.419565,\n",
       " -1.07891,\n",
       " 0.1259,\n",
       " -0.921555,\n",
       " 0.130685,\n",
       " -4.6575500000000005,\n",
       " 0.15608,\n",
       " -0.49948000000000004,\n",
       " -0.25033,\n",
       " 0.19899,\n",
       " -0.99497,\n",
       " -0.068465,\n",
       " -0.2711,\n",
       " 0.13169000000000003,\n",
       " 0.094564,\n",
       " -0.81089,\n",
       " -0.009440000000000004,\n",
       " -0.41015999999999997]"
      ]
     },
     "execution_count": 23,
     "metadata": {},
     "output_type": "execute_result"
    }
   ],
   "source": [
    "#### comprimir la palabra \"happy people\"\n",
    "happypeople = [(x1 + x2) / 2 for x1, x2 in zip(bd['happy'], bd['people'])]\n",
    "happypeople"
   ]
  },
  {
   "cell_type": "code",
   "execution_count": 22,
   "id": "6542f982-410f-4f66-80f6-9765dd765234",
   "metadata": {},
   "outputs": [
    {
     "name": "stdout",
     "output_type": "stream",
     "text": [
      "{'text': 'friends'} score: 0.9673988\n",
      "{'text': 'you'} score: 0.96266943\n",
      "{'text': \"'re\"} score: 0.9555571\n"
     ]
    }
   ],
   "source": [
    "#### buscando esa palabra en qdrant\n",
    "\n",
    "hits = client.search(\n",
    "    collection_name=\"word_vectors\",\n",
    "    query_vector=happypeople,\n",
    "    limit=3,\n",
    ")\n",
    "for hit in hits:\n",
    "    print(hit.payload, \"score:\", hit.score)"
   ]
  },
  {
   "cell_type": "markdown",
   "id": "b5b60b0c-3b30-4155-b81d-cd8d8dc37268",
   "metadata": {},
   "source": [
    "### Parte 1: función fuerza bruta\n",
    "\n"
   ]
  },
  {
   "cell_type": "code",
   "execution_count": 21,
   "id": "6ceac965-d202-46b7-946a-4b8e9a9cc011",
   "metadata": {},
   "outputs": [],
   "source": [
    "def brute_force_compress(frase):\n",
    "\n",
    "    \n",
    "    return tres_palabras_con_score"
   ]
  },
  {
   "cell_type": "markdown",
   "id": "1a71364a-deb2-473a-8079-5371da20366f",
   "metadata": {},
   "source": [
    "### Parte 2: función qdrant"
   ]
  },
  {
   "cell_type": "code",
   "execution_count": null,
   "id": "4d41c315-9bfc-46d6-ae3b-d83de1537dcd",
   "metadata": {},
   "outputs": [],
   "source": [
    "def approximate_compress(frase):\n",
    "\n",
    "    \n",
    "    return tres_palabras_con_score"
   ]
  }
 ],
 "metadata": {
  "kernelspec": {
   "display_name": "Python 3 (ipykernel)",
   "language": "python",
   "name": "python3"
  },
  "language_info": {
   "codemirror_mode": {
    "name": "ipython",
    "version": 3
   },
   "file_extension": ".py",
   "mimetype": "text/x-python",
   "name": "python",
   "nbconvert_exporter": "python",
   "pygments_lexer": "ipython3",
   "version": "3.9.19"
  }
 },
 "nbformat": 4,
 "nbformat_minor": 5
}
